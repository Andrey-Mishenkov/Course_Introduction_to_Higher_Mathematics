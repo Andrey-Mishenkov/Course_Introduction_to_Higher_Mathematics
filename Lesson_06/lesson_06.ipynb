{
 "cells": [
  {
   "cell_type": "code",
   "execution_count": 39,
   "metadata": {},
   "outputs": [],
   "source": [
    "from math import factorial"
   ]
  },
  {
   "cell_type": "markdown",
   "metadata": {},
   "source": [
    "### 1. Задание (теорема сложения)\n",
    "Найти вероятность выпадения 2 или 5 очков при подбрасывании игральной кости, на гранях которой имеются соответственно 1,2,3,4,5 и 6 очков."
   ]
  },
  {
   "cell_type": "code",
   "execution_count": 40,
   "metadata": {},
   "outputs": [
    {
     "name": "stdout",
     "output_type": "stream",
     "text": [
      "P(2 или 5) = 0.333333\n"
     ]
    }
   ],
   "source": [
    "p_a = p_b = 1/6   # вероятность выпадения 2 или 5 по отдельности\n",
    "p = p_a + p_b\n",
    "print(f'P(2 или 5) = {round(p, 6)}')"
   ]
  },
  {
   "cell_type": "markdown",
   "metadata": {},
   "source": [
    "### 2. Задание (теорема умножения)\n",
    "Найти вероятность того, что при двух подбрасываниях той же самой игральной кости сначала выпадет 2, а затем 5."
   ]
  },
  {
   "cell_type": "code",
   "execution_count": 41,
   "metadata": {},
   "outputs": [
    {
     "name": "stdout",
     "output_type": "stream",
     "text": [
      "P(2 затем 5) = 0.027778\n"
     ]
    }
   ],
   "source": [
    "p_a = p_b = 1/6   # вероятность выпадения 2 или 5 по отдельности\n",
    "p = p_a * p_b\n",
    "print(f'P(2 затем 5) = {round(p, 6)}')"
   ]
  },
  {
   "cell_type": "markdown",
   "metadata": {},
   "source": [
    "### 3. Задание \n",
    "Найти вероятность выпадения 2 и 5 очков при двух подбрасываниях той же самой игральной игральной кости."
   ]
  },
  {
   "cell_type": "markdown",
   "metadata": {},
   "source": [
    "Непонятна формулировка \"выпадение 2 и 5 при двух подбрасываниях\"  \n",
    "Если имется в виду одновременное выпадение 2 и 5, то это невозможно, т.к. события несовместные  \n",
    "Поэтому P = 0"
   ]
  },
  {
   "cell_type": "markdown",
   "metadata": {},
   "source": [
    "### 4. Задание (Геометрическая вероятность + интервалы)\n",
    "На отрезке AB длиной 20 см наугад отметили точку C.  \n",
    "Какова вероятность, что она находится на расстоянии не более 9 см от точки А и не более 15 см от точки В?"
   ]
  },
  {
   "cell_type": "markdown",
   "metadata": {},
   "source": [
    "Формула геметрической вероятности:\n",
    "$$P(A) = \\frac{mes(g)}{mes(G)}$$\n",
    "где  \n",
    "mes(g) - область благоприятная для события  \n",
    "mes(G) - вся область"
   ]
  },
  {
   "cell_type": "code",
   "execution_count": 42,
   "metadata": {},
   "outputs": [
    {
     "name": "stdout",
     "output_type": "stream",
     "text": [
      "P(A) = 0.2\n"
     ]
    }
   ],
   "source": [
    "g_positive = 15 + 9 - 20    # область блоагоприятная событию\n",
    "g_total = 20                # вся область\n",
    "\n",
    "p = g_positive/g_total\n",
    "print(f'P(A) = {round(p, 6)}')"
   ]
  },
  {
   "cell_type": "markdown",
   "metadata": {},
   "source": [
    "### 5. Задание\n",
    "Телефонный номер состоит из 7 цифр.  \n",
    "Какова вероятность, что это номер 8882227?"
   ]
  },
  {
   "cell_type": "code",
   "execution_count": 43,
   "metadata": {},
   "outputs": [
    {
     "name": "stdout",
     "output_type": "stream",
     "text": [
      "P(A) = 1e-07\n"
     ]
    }
   ],
   "source": [
    "# Число благоприятных исходов   = 1\n",
    "# Общее число возможных номеров = 10^7\n",
    "\n",
    "p = 1/10**7\n",
    "print(f'P(A) = {p}')"
   ]
  },
  {
   "cell_type": "markdown",
   "metadata": {},
   "source": [
    "### 6. Задание\n",
    "Набирая номер телефона, абонент забыл 2 последние цифры, и,  \n",
    "помня только то, что эти цифры различны и среди них нет нуля, стал набирать их наудачу.  \n",
    "Сколько вариантов ему надо перебрать, чтобы наверняка найти нужный номер?  \n",
    "Какова вероятность того, что он угадает номер с первого раза?"
   ]
  },
  {
   "cell_type": "markdown",
   "metadata": {},
   "source": [
    "Формула числа размещений k элементов из n элементов:\n",
    "$$A_n^k = \\frac{n!}{(n - k)!} $$"
   ]
  },
  {
   "cell_type": "code",
   "execution_count": 44,
   "metadata": {},
   "outputs": [
    {
     "name": "stdout",
     "output_type": "stream",
     "text": [
      "Количество вариантов для перебора = 72\n",
      "P(угадывания с 1-го раза) = 0.013889\n"
     ]
    }
   ],
   "source": [
    "count_A_kn = int(factorial(9) / factorial(9 - 2))\n",
    "print(f'Количество вариантов для перебора = {count_A_kn}')\n",
    "\n",
    "p = 1 / count_A_kn\n",
    "print(f'P(угадывания с 1-го раза) = {round(p, 6)}')"
   ]
  },
  {
   "cell_type": "markdown",
   "metadata": {},
   "source": [
    "### 7. Задание** (необязательное) \n",
    "Чёрный куб покрасили снаружи белой краской, затем разрезали на 27 одинаковых маленьких кубиков и  \n",
    "как попало сложили из них большой куб.  \n",
    "С какой вероятностью все грани этого куба будут белыми?"
   ]
  },
  {
   "cell_type": "code",
   "execution_count": 45,
   "metadata": {},
   "outputs": [
    {
     "name": "stdout",
     "output_type": "stream",
     "text": [
      "P(A) = 1.8298051356415021e-37\n"
     ]
    }
   ],
   "source": [
    "# Получилось 4 группы маленьких кубиков:\n",
    "# 1.  8 кубиков: 3 белых грани  + 3 черных грани\n",
    "# 2. 12 кубиков: 2 белых грани  + 4 черных грани\n",
    "# 3.  6 кубиков: 1 белая грань  + 5 черных граней\n",
    "# 4.  1 кубик:   0 белых граней + 6 черных граней\n",
    "\n",
    "# Вероятность = число благоприятных исходов / общее число исходов\n",
    "\n",
    "# Считаю количество удачных комбинаций для каждой группы\n",
    "\n",
    "# Для каждой группы Количество подходящих вариантов = \n",
    "#     Количество перестановок внутри группы * Количество подходящих поворотов\n",
    "count_1 = factorial(8)  * 3**8\n",
    "count_2 = factorial(12) * 2**12\n",
    "count_3 = factorial(6)  * 4**6\n",
    "count_4 = factorial(1)  * 24\n",
    "\n",
    "# общее число исходов\n",
    "count_total = factorial(27)  * 24**27\n",
    "\n",
    "p = count_1 * count_2 * count_3 * count_4 / count_total\n",
    "print(f'P(A) = {round(p, 100)}')"
   ]
  },
  {
   "cell_type": "code",
   "execution_count": null,
   "metadata": {},
   "outputs": [],
   "source": []
  }
 ],
 "metadata": {
  "kernelspec": {
   "display_name": "Python 3",
   "language": "python",
   "name": "python3"
  },
  "language_info": {
   "codemirror_mode": {
    "name": "ipython",
    "version": 3
   },
   "file_extension": ".py",
   "mimetype": "text/x-python",
   "name": "python",
   "nbconvert_exporter": "python",
   "pygments_lexer": "ipython3",
   "version": "3.7.6"
  }
 },
 "nbformat": 4,
 "nbformat_minor": 4
}
